{
 "cells": [
  {
   "cell_type": "code",
   "execution_count": null,
   "id": "b57f1ca5",
   "metadata": {},
   "outputs": [
    {
     "name": "stdout",
     "output_type": "stream",
     "text": [
      "Enter email address: tloukgare@yahoo.com\n",
      "Username: tloukgare\n",
      "Domain: yahoo\n",
      "Extension: com\n",
      "\n",
      "\n",
      "Enter email address: MacG@PodcastAndChill.com\n",
      "Username: MacG\n",
      "Domain: PodcastAndChill\n",
      "Extension: com\n",
      "\n",
      "\n"
     ]
    }
   ],
   "source": [
    "def email_slicer():\n",
    "    email = input(\"Enter email address: \")\n",
    "    username, domain = email.split('@')\n",
    "    domain, extension = domain.split('.')\n",
    "    \n",
    "    print(\"Username:\", username)\n",
    "    print(\"Domain:\", domain)\n",
    "    print(\"Extension:\", extension)\n",
    "    print('\\n')\n",
    "    \n",
    "while True:\n",
    "    email_slicer()"
   ]
  },
  {
   "cell_type": "code",
   "execution_count": null,
   "id": "2976b712",
   "metadata": {},
   "outputs": [],
   "source": []
  }
 ],
 "metadata": {
  "kernelspec": {
   "display_name": "Python 3",
   "language": "python",
   "name": "python3"
  }
 },
 "nbformat": 4,
 "nbformat_minor": 5
}

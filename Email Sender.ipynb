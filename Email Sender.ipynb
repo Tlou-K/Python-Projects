{
 "cells": [
  {
   "cell_type": "code",
   "execution_count": 1,
   "id": "145de062",
   "metadata": {},
   "outputs": [],
   "source": [
    "import os\n",
    "from email.message import EmailMessage\n",
    "import ssl\n",
    "import smtplib"
   ]
  },
  {
   "cell_type": "code",
   "execution_count": 2,
   "id": "faa51205",
   "metadata": {},
   "outputs": [],
   "source": [
    "email_sender = 'kgaretloupenny@gmail.com'\n",
    "email_password = 'dyvo gsem nbqo yijf'\n",
    "email_receiver = 'tloukgare@yahoo.com'\n",
    "\n",
    "subject = 'FYI'\n",
    "body = ''' \n",
    "Dear Tlou,\n",
    "\n",
    "Never Give up!\n",
    "\n",
    "Kind regards,\n",
    "Maphena'''\n",
    "\n",
    "em = EmailMessage()\n",
    "em['From'] = email_sender\n",
    "em['To'] = email_receiver\n",
    "em['Subject'] = subject\n",
    "em.set_content(body)"
   ]
  },
  {
   "cell_type": "code",
   "execution_count": 3,
   "id": "3c6db9c6",
   "metadata": {},
   "outputs": [],
   "source": [
    "context = ssl.create_default_context()\n",
    "with smtplib.SMTP_SSL('smtp.gmail.com', 465, context=context) as smtp:\n",
    "    smtp.login(email_sender, email_password)\n",
    "    smtp.sendmail(email_sender, email_receiver, em.as_string())"
   ]
  },
  {
   "cell_type": "code",
   "execution_count": null,
   "id": "41bb8a44",
   "metadata": {},
   "outputs": [],
   "source": []
  }
 ],
 "metadata": {
  "kernelspec": {
   "display_name": "Python 3",
   "language": "python",
   "name": "python3"
  },
  "language_info": {
   "codemirror_mode": {
    "name": "ipython",
    "version": 3
   },
   "file_extension": ".py",
   "mimetype": "text/x-python",
   "name": "python",
   "nbconvert_exporter": "python",
   "pygments_lexer": "ipython3",
   "version": "3.8.8"
  }
 },
 "nbformat": 4,
 "nbformat_minor": 5
}

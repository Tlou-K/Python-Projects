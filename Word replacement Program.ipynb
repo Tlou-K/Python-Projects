{
 "cells": [
  {
   "cell_type": "code",
   "execution_count": 1,
   "id": "ea728927",
   "metadata": {},
   "outputs": [
    {
     "name": "stdout",
     "output_type": "stream",
     "text": [
      "Enter the word(s) to replace: Hi guys\n",
      "Enter the word(s) replacement: Eita majita\n",
      "Eita majita, I am Maphena, I just want to say never give up!\n"
     ]
    }
   ],
   "source": [
    "def replace_word():\n",
    "    my_str = \"Hi guys, I am Maphena, I just want to say never give up!\"\n",
    "    word_to_replace = input(\"Enter the word(s) to replace: \")\n",
    "    word_replacement = input(\"Enter the word(s) replacement: \")\n",
    "    new_str = my_str.replace(word_to_replace, word_replacement)\n",
    "    print(new_str)\n",
    "\n",
    "replace_word()"
   ]
  },
  {
   "cell_type": "code",
   "execution_count": null,
   "id": "fab32b13",
   "metadata": {},
   "outputs": [],
   "source": []
  }
 ],
 "metadata": {
  "kernelspec": {
   "display_name": "Python 3",
   "language": "python",
   "name": "python3"
  },
  "language_info": {
   "codemirror_mode": {
    "name": "ipython",
    "version": 3
   },
   "file_extension": ".py",
   "mimetype": "text/x-python",
   "name": "python",
   "nbconvert_exporter": "python",
   "pygments_lexer": "ipython3",
   "version": "3.8.8"
  }
 },
 "nbformat": 4,
 "nbformat_minor": 5
}

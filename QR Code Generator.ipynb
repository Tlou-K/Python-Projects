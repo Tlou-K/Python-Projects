{
 "cells": [
  {
   "cell_type": "code",
   "execution_count": 1,
   "id": "c8909af8",
   "metadata": {},
   "outputs": [
    {
     "name": "stdout",
     "output_type": "stream",
     "text": [
      "QR code for 'http://libgen.li/' saved to 'books.png'.\n"
     ]
    }
   ],
   "source": [
    "import qrcode\n",
    "from PIL import Image\n",
    "\n",
    "def create_qr_code(text, file_path):\n",
    "    # Create an instance of the QRCode class\n",
    "    qr = qrcode.QRCode(\n",
    "        version=1,\n",
    "        error_correction=qrcode.constants.ERROR_CORRECT_L,\n",
    "        box_size=10,\n",
    "        border=4,\n",
    "    )\n",
    "\n",
    "    # Add data to the QRCode instance\n",
    "    qr.add_data(text)\n",
    "    qr.make(fit=True)\n",
    "\n",
    "    # Create an image from the QRCode instance\n",
    "    img = qr.make_image(fill_color=\"black\", back_color=\"white\")\n",
    "\n",
    "    # Save the image to the specified file path\n",
    "    img.save(file_path)\n",
    "\n",
    "# Example usage:\n",
    "text_to_convert = \"http://libgen.li/\"\n",
    "output_file_path = \"books.png\"\n",
    "\n",
    "create_qr_code(text_to_convert, output_file_path)\n",
    "print(f\"QR code for '{text_to_convert}' saved to '{output_file_path}'.\")"
   ]
  },
  {
   "cell_type": "code",
   "execution_count": null,
   "id": "5b5a1626",
   "metadata": {},
   "outputs": [],
   "source": []
  }
 ],
 "metadata": {
  "kernelspec": {
   "display_name": "Python 3",
   "language": "python",
   "name": "python3"
  },
  "language_info": {
   "codemirror_mode": {
    "name": "ipython",
    "version": 3
   },
   "file_extension": ".py",
   "mimetype": "text/x-python",
   "name": "python",
   "nbconvert_exporter": "python",
   "pygments_lexer": "ipython3",
   "version": "3.8.8"
  }
 },
 "nbformat": 4,
 "nbformat_minor": 5
}

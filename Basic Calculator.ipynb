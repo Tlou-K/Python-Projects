{
 "cells": [
  {
   "cell_type": "code",
   "execution_count": null,
   "id": "cb16c2f8",
   "metadata": {},
   "outputs": [],
   "source": [
    "def calculator():\n",
    "    while True:\n",
    "        a = int(input(\"Enter any number: \"))\n",
    "        operator = input(\"Enter operator of your choice: \")\n",
    "        b = int(input(\"Enter any number: \"))\n",
    "        \n",
    "        answer = None\n",
    "        \n",
    "        if operator == \"+\":\n",
    "            answer = a + b\n",
    "        elif operator == \"-\":\n",
    "            answer = a - b\n",
    "        elif operator == \"*\":\n",
    "            answer = a * b\n",
    "        elif operator == \"/\":\n",
    "            if b != 0:\n",
    "                answer = a / b\n",
    "            else:\n",
    "                print(f\"\\033[1;30m{a} {operator} {b} = Undefined\\033[0m\".center(40))\n",
    "                continue\n",
    "                \n",
    "        print(f\"\\033[1;30m{a} {operator} {b} = {answer}\\033[0m\".center(40))\n",
    "        \n",
    "        another_calculation = input(\"Do you want to perform another calculation? (yes/no): \").lower()\n",
    "        if another_calculation != 'yes':\n",
    "            print(\"Exiting the calculator.\")\n",
    "            break \n",
    "\n",
    "# Call the calculator function\n",
    "calculator()"
   ]
  },
  {
   "cell_type": "code",
   "execution_count": null,
   "id": "5cae0117",
   "metadata": {},
   "outputs": [],
   "source": []
  }
 ],
 "metadata": {
  "kernelspec": {
   "display_name": "Python 3",
   "language": "python",
   "name": "python3"
  }
 },
 "nbformat": 4,
 "nbformat_minor": 5
}
